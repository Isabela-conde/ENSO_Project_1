{
 "cells": [
  {
   "cell_type": "markdown",
   "metadata": {},
   "source": [
    "# ENSO Diversity Changes: Observational comparison of advection terms over the last 50 years.\n",
    "\n",
    "Question presented: \n",
    "ENSO characteristics depend on the background conditions of the tropical Pacific Ocean and the recent ~40-yr trend towards La Niña-like conditions appears to be changing the character of ENSO cycle variability, favoring a shift towards more CP vs EP type ENSO variations.\n",
    "\n",
    "Following same method as (Jin, 2003) and (takahashi, 2016).\n",
    "\n",
    "The mixed layer heat budget is calculated with the LHS as $ \\frac{\\partial T}{\\partial t} $. In this project we consider composite CP and EP events of El Ni\\~no and La Ni\\~na, here it's advantages to consider the heat budget in terms of the temperature anomaly $T'$. Therefore, the temperature tendency terms becomes $\\frac{\\partial (T' + \\overline{T})}{\\partial t}$, where prime indicates the anomaly and bar the climatology, as the climatology is constant in time, the resulting budget will be for the anomalous temperature tendency $\\frac{\\partial T'}{\\partial t}$. Right hand sides can be separated as such:\n",
    "\n",
    "\\begin{align}\n",
    "    \\frac{ \\partial T' }{ \\partial t } = ADV_X +ADV_Y +NDH +Q_{net}' +R\n",
    "\\end{align}\n",
    "\n",
    "Where $ADV_X, \\ ADV_Y, \\ ADV_Z $, are the zonal, meridional and vertical velocities. $Q_{net}'$ are the anomalous surface flux terms and $R$ the residual, $NDH$ is the non-linear dynamical heat.\n",
    "\n",
    "For the calculations presented, we will only consider the advection terms due to time constraints and as a simplification of the project. The advection terms will be listed below: \n",
    "\n",
    "\\begin{align}\n",
    "    ADV_X &= -u' \\frac{\\partial \\overline{T}}{\\partial x} - \\overline{u} \\frac{\\partial T'}{\\partial x}\\\\\n",
    "    ADV_Y = &= -v' \\frac{\\partial \\overline{T}}{\\partial y} - \\overline{v} \\frac{\\partial T'}{\\partial y}\\\\\n",
    "    ADV_z = &= -w' \\frac{\\partial \\overline{T}}{\\partial w} - \\overline{w} \\frac{\\partial T'}{\\partial w}\\\\\n",
    "\\end{align}\n",
    "\n",
    "In this instance, by separating velocities in terms of anomaly and climatology we can better understand how the mean the difference in mean-state affects the anomalous velocity.\n",
    "\n",
    "SST anomalies are largely driven by ENSO, therefore when considering ocean velocities anomalies ($u',v',w'$), take this as dominated by the affect of ENSO.\n",
    "\n",
    "Therefore, zonal advection of mean SST by anomalous zonal currents $-u' \\frac{\\partial \\overline{T}}{\\partial t} $, for instance positive zonal anomalies in the equatorial Pacific indicate a stronger easterly current (if this statement is correct-not sure, maybe driven by an increase of trade winds?) then this would increase mean SST in west and decrease it in the east???? No clue tbh. I know the term is 'zonal advection of mean SST by anomalous zonal currents' but unsure how to interpret it. You can interpret the other $ \\frac{\\partial \\overline{T}}{\\partial y}$  terms in a similar manner.\n",
    "\n",
    "The $\\overline{w} \\frac{\\partial T'}{\\partial w}$ (or $x/y$) term represents vertical advection of anomalous subsurface temperature by mean upwelling - i.e Ekman pumping??\n",
    "\n",
    "\n",
    "### Data -> check if you all agree with this.\n",
    "\n",
    "Using GODAS monthly means from 1980 to 2025, and considering two 25 year periods. We consider the climatology over each period and compute the and anomolus terms for each ENSO CP/EP events, from these terms we take composite for each type of event to see what advective terms contribute most.\n",
    "\n",
    "\n",
    "Calculation of budget:\n",
    "Will work on this untill someone tells me otherwise! :)\n",
    "\n",
    "##### People \n",
    "Roger, Borianna, Yukito, Bela\n",
    "- if you add code put your name on it so you get credit :)"
   ]
  },
  {
   "cell_type": "markdown",
   "metadata": {},
   "source": []
  },
  {
   "cell_type": "code",
   "execution_count": null,
   "metadata": {},
   "outputs": [],
   "source": [
    "# Load GODAS data u,v and w velocity data, and temperature for the top 60m\n",
    "\n",
    "# u data \n",
    "\n"
   ]
  }
 ],
 "metadata": {
  "language_info": {
   "name": "python"
  }
 },
 "nbformat": 4,
 "nbformat_minor": 2
}
